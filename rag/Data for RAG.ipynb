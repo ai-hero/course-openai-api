{
 "cells": [
  {
   "cell_type": "markdown",
   "id": "0d0cefd3-b657-408a-a01d-559b326d82df",
   "metadata": {},
   "source": [
    "# Generating Synthetic Data for Retrieval Augmented Generation. \n",
    "\n",
    "In this notebook, we'll generate a synthetic dataset for RAG using Wikipedia. We'll build on all documents in the topic San Francisco."
   ]
  },
  {
   "cell_type": "code",
   "execution_count": 1,
   "id": "a657d0ad-3f9e-438e-97a8-16c44932d713",
   "metadata": {},
   "outputs": [
    {
     "name": "stdout",
     "output_type": "stream",
     "text": [
      "Requirement already satisfied: llama-index in /Users/rahulparundekar/workspaces/course-openai-api/venv/lib/python3.11/site-packages (0.9.39)\n",
      "Requirement already satisfied: datasets in /Users/rahulparundekar/workspaces/course-openai-api/venv/lib/python3.11/site-packages (2.16.1)\n",
      "Requirement already satisfied: tqdm in /Users/rahulparundekar/workspaces/course-openai-api/venv/lib/python3.11/site-packages (4.66.1)\n",
      "Requirement already satisfied: python-dotenv in /Users/rahulparundekar/workspaces/course-openai-api/venv/lib/python3.11/site-packages (1.0.1)\n",
      "Requirement already satisfied: spacy in /Users/rahulparundekar/workspaces/course-openai-api/venv/lib/python3.11/site-packages (3.7.2)\n",
      "Requirement already satisfied: SQLAlchemy>=1.4.49 in /Users/rahulparundekar/workspaces/course-openai-api/venv/lib/python3.11/site-packages (from SQLAlchemy[asyncio]>=1.4.49->llama-index) (2.0.25)\n",
      "Requirement already satisfied: aiohttp<4.0.0,>=3.8.6 in /Users/rahulparundekar/workspaces/course-openai-api/venv/lib/python3.11/site-packages (from llama-index) (3.9.1)\n",
      "Requirement already satisfied: dataclasses-json in /Users/rahulparundekar/workspaces/course-openai-api/venv/lib/python3.11/site-packages (from llama-index) (0.6.3)\n",
      "Requirement already satisfied: deprecated>=1.2.9.3 in /Users/rahulparundekar/workspaces/course-openai-api/venv/lib/python3.11/site-packages (from llama-index) (1.2.14)\n",
      "Requirement already satisfied: fsspec>=2023.5.0 in /Users/rahulparundekar/workspaces/course-openai-api/venv/lib/python3.11/site-packages (from llama-index) (2023.10.0)\n",
      "Requirement already satisfied: httpx in /Users/rahulparundekar/workspaces/course-openai-api/venv/lib/python3.11/site-packages (from llama-index) (0.26.0)\n",
      "Requirement already satisfied: nest-asyncio<2.0.0,>=1.5.8 in /Users/rahulparundekar/workspaces/course-openai-api/venv/lib/python3.11/site-packages (from llama-index) (1.6.0)\n",
      "Requirement already satisfied: networkx>=3.0 in /Users/rahulparundekar/workspaces/course-openai-api/venv/lib/python3.11/site-packages (from llama-index) (3.2.1)\n",
      "Requirement already satisfied: nltk<4.0.0,>=3.8.1 in /Users/rahulparundekar/workspaces/course-openai-api/venv/lib/python3.11/site-packages (from llama-index) (3.8.1)\n",
      "Requirement already satisfied: numpy in /Users/rahulparundekar/workspaces/course-openai-api/venv/lib/python3.11/site-packages (from llama-index) (1.26.3)\n",
      "Requirement already satisfied: openai>=1.1.0 in /Users/rahulparundekar/workspaces/course-openai-api/venv/lib/python3.11/site-packages (from llama-index) (1.10.0)\n",
      "Requirement already satisfied: pandas in /Users/rahulparundekar/workspaces/course-openai-api/venv/lib/python3.11/site-packages (from llama-index) (2.2.0)\n",
      "Requirement already satisfied: requests>=2.31.0 in /Users/rahulparundekar/workspaces/course-openai-api/venv/lib/python3.11/site-packages (from llama-index) (2.31.0)\n",
      "Requirement already satisfied: tenacity<9.0.0,>=8.2.0 in /Users/rahulparundekar/workspaces/course-openai-api/venv/lib/python3.11/site-packages (from llama-index) (8.2.3)\n",
      "Requirement already satisfied: tiktoken>=0.3.3 in /Users/rahulparundekar/workspaces/course-openai-api/venv/lib/python3.11/site-packages (from llama-index) (0.5.2)\n",
      "Requirement already satisfied: typing-extensions>=4.5.0 in /Users/rahulparundekar/workspaces/course-openai-api/venv/lib/python3.11/site-packages (from llama-index) (4.9.0)\n",
      "Requirement already satisfied: typing-inspect>=0.8.0 in /Users/rahulparundekar/workspaces/course-openai-api/venv/lib/python3.11/site-packages (from llama-index) (0.9.0)\n",
      "Requirement already satisfied: filelock in /Users/rahulparundekar/workspaces/course-openai-api/venv/lib/python3.11/site-packages (from datasets) (3.13.1)\n",
      "Requirement already satisfied: pyarrow>=8.0.0 in /Users/rahulparundekar/workspaces/course-openai-api/venv/lib/python3.11/site-packages (from datasets) (15.0.0)\n",
      "Requirement already satisfied: pyarrow-hotfix in /Users/rahulparundekar/workspaces/course-openai-api/venv/lib/python3.11/site-packages (from datasets) (0.6)\n",
      "Requirement already satisfied: dill<0.3.8,>=0.3.0 in /Users/rahulparundekar/workspaces/course-openai-api/venv/lib/python3.11/site-packages (from datasets) (0.3.7)\n",
      "Requirement already satisfied: xxhash in /Users/rahulparundekar/workspaces/course-openai-api/venv/lib/python3.11/site-packages (from datasets) (3.4.1)\n",
      "Requirement already satisfied: multiprocess in /Users/rahulparundekar/workspaces/course-openai-api/venv/lib/python3.11/site-packages (from datasets) (0.70.15)\n",
      "Requirement already satisfied: huggingface-hub>=0.19.4 in /Users/rahulparundekar/workspaces/course-openai-api/venv/lib/python3.11/site-packages (from datasets) (0.20.3)\n",
      "Requirement already satisfied: packaging in /Users/rahulparundekar/workspaces/course-openai-api/venv/lib/python3.11/site-packages (from datasets) (23.2)\n",
      "Requirement already satisfied: pyyaml>=5.1 in /Users/rahulparundekar/workspaces/course-openai-api/venv/lib/python3.11/site-packages (from datasets) (6.0.1)\n",
      "Requirement already satisfied: spacy-legacy<3.1.0,>=3.0.11 in /Users/rahulparundekar/workspaces/course-openai-api/venv/lib/python3.11/site-packages (from spacy) (3.0.12)\n",
      "Requirement already satisfied: spacy-loggers<2.0.0,>=1.0.0 in /Users/rahulparundekar/workspaces/course-openai-api/venv/lib/python3.11/site-packages (from spacy) (1.0.5)\n",
      "Requirement already satisfied: murmurhash<1.1.0,>=0.28.0 in /Users/rahulparundekar/workspaces/course-openai-api/venv/lib/python3.11/site-packages (from spacy) (1.0.10)\n",
      "Requirement already satisfied: cymem<2.1.0,>=2.0.2 in /Users/rahulparundekar/workspaces/course-openai-api/venv/lib/python3.11/site-packages (from spacy) (2.0.8)\n",
      "Requirement already satisfied: preshed<3.1.0,>=3.0.2 in /Users/rahulparundekar/workspaces/course-openai-api/venv/lib/python3.11/site-packages (from spacy) (3.0.9)\n",
      "Requirement already satisfied: thinc<8.3.0,>=8.1.8 in /Users/rahulparundekar/workspaces/course-openai-api/venv/lib/python3.11/site-packages (from spacy) (8.2.2)\n",
      "Requirement already satisfied: wasabi<1.2.0,>=0.9.1 in /Users/rahulparundekar/workspaces/course-openai-api/venv/lib/python3.11/site-packages (from spacy) (1.1.2)\n",
      "Requirement already satisfied: srsly<3.0.0,>=2.4.3 in /Users/rahulparundekar/workspaces/course-openai-api/venv/lib/python3.11/site-packages (from spacy) (2.4.8)\n",
      "Requirement already satisfied: catalogue<2.1.0,>=2.0.6 in /Users/rahulparundekar/workspaces/course-openai-api/venv/lib/python3.11/site-packages (from spacy) (2.0.10)\n",
      "Requirement already satisfied: weasel<0.4.0,>=0.1.0 in /Users/rahulparundekar/workspaces/course-openai-api/venv/lib/python3.11/site-packages (from spacy) (0.3.4)\n",
      "Requirement already satisfied: typer<0.10.0,>=0.3.0 in /Users/rahulparundekar/workspaces/course-openai-api/venv/lib/python3.11/site-packages (from spacy) (0.9.0)\n",
      "Requirement already satisfied: smart-open<7.0.0,>=5.2.1 in /Users/rahulparundekar/workspaces/course-openai-api/venv/lib/python3.11/site-packages (from spacy) (6.4.0)\n",
      "Requirement already satisfied: pydantic!=1.8,!=1.8.1,<3.0.0,>=1.7.4 in /Users/rahulparundekar/workspaces/course-openai-api/venv/lib/python3.11/site-packages (from spacy) (2.5.3)\n",
      "Requirement already satisfied: jinja2 in /Users/rahulparundekar/workspaces/course-openai-api/venv/lib/python3.11/site-packages (from spacy) (3.1.3)\n",
      "Requirement already satisfied: setuptools in /Users/rahulparundekar/workspaces/course-openai-api/venv/lib/python3.11/site-packages (from spacy) (68.2.2)\n",
      "Requirement already satisfied: langcodes<4.0.0,>=3.2.0 in /Users/rahulparundekar/workspaces/course-openai-api/venv/lib/python3.11/site-packages (from spacy) (3.3.0)\n",
      "Requirement already satisfied: attrs>=17.3.0 in /Users/rahulparundekar/workspaces/course-openai-api/venv/lib/python3.11/site-packages (from aiohttp<4.0.0,>=3.8.6->llama-index) (23.2.0)\n",
      "Requirement already satisfied: multidict<7.0,>=4.5 in /Users/rahulparundekar/workspaces/course-openai-api/venv/lib/python3.11/site-packages (from aiohttp<4.0.0,>=3.8.6->llama-index) (6.0.4)\n",
      "Requirement already satisfied: yarl<2.0,>=1.0 in /Users/rahulparundekar/workspaces/course-openai-api/venv/lib/python3.11/site-packages (from aiohttp<4.0.0,>=3.8.6->llama-index) (1.9.4)\n",
      "Requirement already satisfied: frozenlist>=1.1.1 in /Users/rahulparundekar/workspaces/course-openai-api/venv/lib/python3.11/site-packages (from aiohttp<4.0.0,>=3.8.6->llama-index) (1.4.1)\n",
      "Requirement already satisfied: aiosignal>=1.1.2 in /Users/rahulparundekar/workspaces/course-openai-api/venv/lib/python3.11/site-packages (from aiohttp<4.0.0,>=3.8.6->llama-index) (1.3.1)\n",
      "Requirement already satisfied: wrapt<2,>=1.10 in /Users/rahulparundekar/workspaces/course-openai-api/venv/lib/python3.11/site-packages (from deprecated>=1.2.9.3->llama-index) (1.16.0)\n",
      "Requirement already satisfied: click in /Users/rahulparundekar/workspaces/course-openai-api/venv/lib/python3.11/site-packages (from nltk<4.0.0,>=3.8.1->llama-index) (8.1.7)\n",
      "Requirement already satisfied: joblib in /Users/rahulparundekar/workspaces/course-openai-api/venv/lib/python3.11/site-packages (from nltk<4.0.0,>=3.8.1->llama-index) (1.3.2)\n",
      "Requirement already satisfied: regex>=2021.8.3 in /Users/rahulparundekar/workspaces/course-openai-api/venv/lib/python3.11/site-packages (from nltk<4.0.0,>=3.8.1->llama-index) (2023.12.25)\n",
      "Requirement already satisfied: anyio<5,>=3.5.0 in /Users/rahulparundekar/workspaces/course-openai-api/venv/lib/python3.11/site-packages (from openai>=1.1.0->llama-index) (4.2.0)\n",
      "Requirement already satisfied: distro<2,>=1.7.0 in /Users/rahulparundekar/workspaces/course-openai-api/venv/lib/python3.11/site-packages (from openai>=1.1.0->llama-index) (1.9.0)\n",
      "Requirement already satisfied: sniffio in /Users/rahulparundekar/workspaces/course-openai-api/venv/lib/python3.11/site-packages (from openai>=1.1.0->llama-index) (1.3.0)\n",
      "Requirement already satisfied: certifi in /Users/rahulparundekar/workspaces/course-openai-api/venv/lib/python3.11/site-packages (from httpx->llama-index) (2023.11.17)\n",
      "Requirement already satisfied: httpcore==1.* in /Users/rahulparundekar/workspaces/course-openai-api/venv/lib/python3.11/site-packages (from httpx->llama-index) (1.0.2)\n",
      "Requirement already satisfied: idna in /Users/rahulparundekar/workspaces/course-openai-api/venv/lib/python3.11/site-packages (from httpx->llama-index) (3.6)\n",
      "Requirement already satisfied: h11<0.15,>=0.13 in /Users/rahulparundekar/workspaces/course-openai-api/venv/lib/python3.11/site-packages (from httpcore==1.*->httpx->llama-index) (0.14.0)\n",
      "Requirement already satisfied: annotated-types>=0.4.0 in /Users/rahulparundekar/workspaces/course-openai-api/venv/lib/python3.11/site-packages (from pydantic!=1.8,!=1.8.1,<3.0.0,>=1.7.4->spacy) (0.6.0)\n",
      "Requirement already satisfied: pydantic-core==2.14.6 in /Users/rahulparundekar/workspaces/course-openai-api/venv/lib/python3.11/site-packages (from pydantic!=1.8,!=1.8.1,<3.0.0,>=1.7.4->spacy) (2.14.6)\n",
      "Requirement already satisfied: charset-normalizer<4,>=2 in /Users/rahulparundekar/workspaces/course-openai-api/venv/lib/python3.11/site-packages (from requests>=2.31.0->llama-index) (3.3.2)\n",
      "Requirement already satisfied: urllib3<3,>=1.21.1 in /Users/rahulparundekar/workspaces/course-openai-api/venv/lib/python3.11/site-packages (from requests>=2.31.0->llama-index) (2.1.0)\n",
      "Requirement already satisfied: greenlet!=0.4.17 in /Users/rahulparundekar/workspaces/course-openai-api/venv/lib/python3.11/site-packages (from SQLAlchemy>=1.4.49->SQLAlchemy[asyncio]>=1.4.49->llama-index) (3.0.3)\n",
      "Requirement already satisfied: blis<0.8.0,>=0.7.8 in /Users/rahulparundekar/workspaces/course-openai-api/venv/lib/python3.11/site-packages (from thinc<8.3.0,>=8.1.8->spacy) (0.7.11)\n",
      "Requirement already satisfied: confection<1.0.0,>=0.0.1 in /Users/rahulparundekar/workspaces/course-openai-api/venv/lib/python3.11/site-packages (from thinc<8.3.0,>=8.1.8->spacy) (0.1.4)\n",
      "Requirement already satisfied: mypy-extensions>=0.3.0 in /Users/rahulparundekar/workspaces/course-openai-api/venv/lib/python3.11/site-packages (from typing-inspect>=0.8.0->llama-index) (1.0.0)\n",
      "Requirement already satisfied: cloudpathlib<0.17.0,>=0.7.0 in /Users/rahulparundekar/workspaces/course-openai-api/venv/lib/python3.11/site-packages (from weasel<0.4.0,>=0.1.0->spacy) (0.16.0)\n",
      "Requirement already satisfied: marshmallow<4.0.0,>=3.18.0 in /Users/rahulparundekar/workspaces/course-openai-api/venv/lib/python3.11/site-packages (from dataclasses-json->llama-index) (3.20.2)\n",
      "Requirement already satisfied: MarkupSafe>=2.0 in /Users/rahulparundekar/workspaces/course-openai-api/venv/lib/python3.11/site-packages (from jinja2->spacy) (2.1.4)\n",
      "Requirement already satisfied: python-dateutil>=2.8.2 in /Users/rahulparundekar/workspaces/course-openai-api/venv/lib/python3.11/site-packages (from pandas->llama-index) (2.8.2)\n",
      "Requirement already satisfied: pytz>=2020.1 in /Users/rahulparundekar/workspaces/course-openai-api/venv/lib/python3.11/site-packages (from pandas->llama-index) (2023.3.post1)\n",
      "Requirement already satisfied: tzdata>=2022.7 in /Users/rahulparundekar/workspaces/course-openai-api/venv/lib/python3.11/site-packages (from pandas->llama-index) (2023.4)\n",
      "Requirement already satisfied: six>=1.5 in /Users/rahulparundekar/workspaces/course-openai-api/venv/lib/python3.11/site-packages (from python-dateutil>=2.8.2->pandas->llama-index) (1.16.0)\n",
      "\n",
      "\u001b[1m[\u001b[0m\u001b[34;49mnotice\u001b[0m\u001b[1;39;49m]\u001b[0m\u001b[39;49m A new release of pip is available: \u001b[0m\u001b[31;49m23.3.1\u001b[0m\u001b[39;49m -> \u001b[0m\u001b[32;49m24.0\u001b[0m\n",
      "\u001b[1m[\u001b[0m\u001b[34;49mnotice\u001b[0m\u001b[1;39;49m]\u001b[0m\u001b[39;49m To update, run: \u001b[0m\u001b[32;49mpip install --upgrade pip\u001b[0m\n"
     ]
    }
   ],
   "source": [
    "!pip install llama-index datasets tqdm python-dotenv spacy"
   ]
  },
  {
   "cell_type": "markdown",
   "id": "758997ce-54bb-491d-b018-3a56c9dc08ab",
   "metadata": {},
   "source": [
    "## Setup Environment Variables"
   ]
  },
  {
   "cell_type": "code",
   "execution_count": 35,
   "id": "93000784-1a38-486d-824c-12e2bbde3bc0",
   "metadata": {},
   "outputs": [
    {
     "data": {
      "text/plain": [
       "True"
      ]
     },
     "execution_count": 35,
     "metadata": {},
     "output_type": "execute_result"
    }
   ],
   "source": [
    "from dotenv import load_dotenv\n",
    "\n",
    "load_dotenv()"
   ]
  },
  {
   "cell_type": "markdown",
   "id": "9a20f4bf-89bb-401c-a835-a6d454242482",
   "metadata": {},
   "source": [
    "## Download sciq dataset\n",
    "\n",
    "Note: Parts of this repo are inspired by [this](https://srk.ai/blog/004-ai-llm-retrieval-eval-llamaindex) blog on evaluating the performance of RAGs."
   ]
  },
  {
   "cell_type": "code",
   "execution_count": 36,
   "id": "d3f594c4-3770-45e4-b6b1-2587709763b3",
   "metadata": {},
   "outputs": [],
   "source": [
    "from datasets import load_dataset\n",
    "\n",
    "dataset = load_dataset(\"sciq\")"
   ]
  },
  {
   "cell_type": "code",
   "execution_count": 37,
   "id": "ef804b86-55a3-423b-b8a0-6214a2adc7ef",
   "metadata": {},
   "outputs": [],
   "source": [
    "import hashlib\n",
    "import os\n",
    "\n",
    "# Create a directory to store the content\n",
    "documents_folder = os.path.join(os.path.abspath(\"\"), \".content/docs/\")\n",
    "os.makedirs(documents_folder, exist_ok=True)\n",
    "\n",
    "\n",
    "NUM_DOCUMENTS = 50\n",
    "\n",
    "\n",
    "# Function to save article content to a file\n",
    "def save_article_content(text, folder):\n",
    "    try:\n",
    "        # Fetching the content of the city's Wikipedia page\n",
    "        checksum = hashlib.md5(text.encode(\"utf-8\")).hexdigest()\n",
    "        file_path = os.path.join(folder, checksum + \".txt\")\n",
    "        with open(file_path, \"w\") as file:\n",
    "            file.write(text)\n",
    "        return file_path\n",
    "    except Exception as e:\n",
    "        print(e)\n",
    "        return str(e)\n",
    "\n",
    "\n",
    "# Saving the content of each city to the folder\n",
    "saved_files = []\n",
    "for row in dataset[\"train\"]:\n",
    "    if row[\"support\"]:\n",
    "        saved_files.append(save_article_content(row[\"support\"], documents_folder))\n",
    "    if len(saved_files) >= NUM_DOCUMENTS:\n",
    "        break"
   ]
  },
  {
   "cell_type": "markdown",
   "id": "8e7f0e5d-6824-43f3-aebc-4a855245b1f9",
   "metadata": {},
   "source": [
    "## Generate Synthetic RAG Data From the Documents"
   ]
  },
  {
   "cell_type": "code",
   "execution_count": 38,
   "id": "7805cc42-ab01-44e4-9a13-398250bea39b",
   "metadata": {},
   "outputs": [],
   "source": [
    "# We'll load data about the histories of some cities from Wikipedia.\n",
    "from glob import glob\n",
    "\n",
    "from llama_index import ServiceContext, VectorStoreIndex\n",
    "from llama_index.readers import SimpleDirectoryReader\n",
    "\n",
    "input_files = glob(os.path.join(documents_folder, \"*.txt\"))\n",
    "documents = SimpleDirectoryReader(input_files=input_files).load_data()\n",
    "service_context = ServiceContext.from_defaults(chunk_size=512, chunk_overlap=50)\n",
    "index = VectorStoreIndex.from_documents(documents, service_context=service_context)"
   ]
  },
  {
   "cell_type": "markdown",
   "id": "2771da43-eae8-4ebc-a7cb-749ff0275309",
   "metadata": {},
   "source": [
    "### Generate RAG Dataset"
   ]
  },
  {
   "cell_type": "code",
   "execution_count": 39,
   "id": "56d1254b-5026-438f-998e-cb9bf7e503dc",
   "metadata": {},
   "outputs": [
    {
     "name": "stderr",
     "output_type": "stream",
     "text": [
      "Parsing nodes: 100%|██████████| 50/50 [00:00<00:00, 1261.16it/s]\n"
     ]
    }
   ],
   "source": [
    "# generate questions against chunks\n",
    "from llama_index import ServiceContext\n",
    "from llama_index.llama_dataset.generator import RagDatasetGenerator\n",
    "from llama_index.llms import OpenAI\n",
    "\n",
    "# set context for llm provider\n",
    "gpt_context = ServiceContext.from_defaults(llm=OpenAI(model=\"gpt-3.5-turbo\", temperature=0.3))\n",
    "\n",
    "# instantiate a DatasetGenerator\n",
    "dataset_generator = RagDatasetGenerator.from_documents(\n",
    "    documents,\n",
    "    service_context=gpt_context,\n",
    "    num_questions_per_chunk=1,  # set the number of questions per nodes\n",
    "    show_progress=True,\n",
    ")"
   ]
  },
  {
   "cell_type": "code",
   "execution_count": 40,
   "id": "6029df6a-2f27-41a6-a1ed-c0bd22518bb8",
   "metadata": {},
   "outputs": [
    {
     "name": "stderr",
     "output_type": "stream",
     "text": [
      "  0%|          | 0/50 [00:00<?, ?it/s]"
     ]
    },
    {
     "name": "stderr",
     "output_type": "stream",
     "text": [
      "100%|██████████| 50/50 [00:25<00:00,  1.95it/s]\n",
      "100%|██████████| 10/10 [00:02<00:00,  3.49it/s]\n",
      "100%|██████████| 10/10 [00:03<00:00,  2.78it/s]\n",
      "100%|██████████| 5/5 [00:01<00:00,  4.13it/s]\n",
      "100%|██████████| 5/5 [00:01<00:00,  4.41it/s]\n",
      "100%|██████████| 10/10 [00:03<00:00,  2.56it/s]\n",
      "100%|██████████| 10/10 [00:03<00:00,  3.29it/s]\n",
      "100%|██████████| 10/10 [00:03<00:00,  2.57it/s]\n",
      "100%|██████████| 10/10 [00:02<00:00,  3.64it/s]\n",
      "100%|██████████| 5/5 [00:02<00:00,  2.11it/s]\n",
      "100%|██████████| 8/8 [00:06<00:00,  1.24it/s]\n",
      "100%|██████████| 5/5 [00:01<00:00,  4.41it/s]\n",
      "100%|██████████| 7/7 [00:01<00:00,  4.33it/s]\n",
      "100%|██████████| 7/7 [00:03<00:00,  2.20it/s]\n",
      "100%|██████████| 10/10 [00:06<00:00,  1.55it/s]\n",
      "100%|██████████| 5/5 [00:02<00:00,  2.47it/s]\n",
      "100%|██████████| 8/8 [00:03<00:00,  2.37it/s]\n",
      "100%|██████████| 10/10 [00:03<00:00,  3.26it/s]\n",
      "100%|██████████| 10/10 [00:03<00:00,  2.57it/s]\n",
      "100%|██████████| 5/5 [00:00<00:00,  5.01it/s]\n",
      "100%|██████████| 10/10 [00:02<00:00,  4.94it/s]\n",
      "100%|██████████| 3/3 [00:01<00:00,  2.49it/s]\n",
      "100%|██████████| 6/6 [00:02<00:00,  2.50it/s]\n",
      "100%|██████████| 5/5 [00:01<00:00,  2.85it/s]\n",
      "100%|██████████| 6/6 [00:01<00:00,  4.90it/s]\n",
      "100%|██████████| 4/4 [00:02<00:00,  1.70it/s]\n",
      "100%|██████████| 10/10 [00:06<00:00,  1.48it/s]\n",
      "100%|██████████| 10/10 [00:03<00:00,  2.91it/s]\n",
      "100%|██████████| 8/8 [00:02<00:00,  3.83it/s]\n",
      "100%|██████████| 10/10 [00:02<00:00,  3.39it/s]\n",
      "100%|██████████| 10/10 [00:04<00:00,  2.32it/s]\n",
      "100%|██████████| 6/6 [00:01<00:00,  4.68it/s]\n",
      "100%|██████████| 10/10 [00:02<00:00,  3.83it/s]\n",
      "100%|██████████| 10/10 [00:03<00:00,  3.06it/s]\n",
      "100%|██████████| 7/7 [00:02<00:00,  2.74it/s]\n",
      "100%|██████████| 7/7 [00:01<00:00,  4.90it/s]\n",
      "100%|██████████| 10/10 [00:03<00:00,  2.96it/s]\n",
      "100%|██████████| 5/5 [00:01<00:00,  4.99it/s]\n",
      "100%|██████████| 10/10 [00:01<00:00,  5.79it/s]\n",
      "100%|██████████| 10/10 [00:02<00:00,  4.59it/s]\n",
      "100%|██████████| 5/5 [00:01<00:00,  3.07it/s]\n",
      "100%|██████████| 10/10 [00:04<00:00,  2.21it/s]\n",
      "100%|██████████| 5/5 [00:01<00:00,  2.91it/s]\n",
      "100%|██████████| 5/5 [00:01<00:00,  4.24it/s]\n",
      "100%|██████████| 9/9 [00:03<00:00,  2.63it/s]\n",
      "100%|██████████| 10/10 [00:02<00:00,  3.92it/s]\n",
      "100%|██████████| 10/10 [00:02<00:00,  3.37it/s]\n",
      "100%|██████████| 10/10 [00:04<00:00,  2.02it/s]\n",
      "100%|██████████| 10/10 [00:01<00:00,  5.56it/s]\n",
      "100%|██████████| 8/8 [00:01<00:00,  6.12it/s]\n",
      "100%|██████████| 4/4 [00:00<00:00,  4.79it/s]\n"
     ]
    }
   ],
   "source": [
    "# From LlamaIndex\n",
    "import nest_asyncio\n",
    "\n",
    "nest_asyncio.apply()\n",
    "\n",
    "rag_dataset = dataset_generator.generate_dataset_from_nodes()\n",
    "df = rag_dataset.to_pandas()"
   ]
  },
  {
   "cell_type": "code",
   "execution_count": 43,
   "id": "eaf21c0e-8489-4094-8800-f14c2f25492b",
   "metadata": {},
   "outputs": [
    {
     "data": {
      "text/html": [
       "<div>\n",
       "<style scoped>\n",
       "    .dataframe tbody tr th:only-of-type {\n",
       "        vertical-align: middle;\n",
       "    }\n",
       "\n",
       "    .dataframe tbody tr th {\n",
       "        vertical-align: top;\n",
       "    }\n",
       "\n",
       "    .dataframe thead th {\n",
       "        text-align: right;\n",
       "    }\n",
       "</style>\n",
       "<table border=\"1\" class=\"dataframe\">\n",
       "  <thead>\n",
       "    <tr style=\"text-align: right;\">\n",
       "      <th></th>\n",
       "      <th>query</th>\n",
       "      <th>reference_contexts</th>\n",
       "      <th>reference_answer</th>\n",
       "      <th>reference_answer_by</th>\n",
       "      <th>query_by</th>\n",
       "    </tr>\n",
       "  </thead>\n",
       "  <tbody>\n",
       "    <tr>\n",
       "      <th>0</th>\n",
       "      <td>What are some characteristics of birds that di...</td>\n",
       "      <td>[Birds are endothermic tetrapod vertebrates. T...</td>\n",
       "      <td>Some characteristics of birds that distinguish...</td>\n",
       "      <td>ai (gpt-3.5-turbo)</td>\n",
       "      <td>ai (gpt-3.5-turbo)</td>\n",
       "    </tr>\n",
       "    <tr>\n",
       "      <th>1</th>\n",
       "      <td>How do birds reproduce, and what is unique abo...</td>\n",
       "      <td>[Birds are endothermic tetrapod vertebrates. T...</td>\n",
       "      <td>Birds reproduce by laying amniotic eggs. These...</td>\n",
       "      <td>ai (gpt-3.5-turbo)</td>\n",
       "      <td>ai (gpt-3.5-turbo)</td>\n",
       "    </tr>\n",
       "    <tr>\n",
       "      <th>2</th>\n",
       "      <td>Why are birds considered the most numerous ver...</td>\n",
       "      <td>[Birds are endothermic tetrapod vertebrates. T...</td>\n",
       "      <td>Birds are considered the most numerous vertebr...</td>\n",
       "      <td>ai (gpt-3.5-turbo)</td>\n",
       "      <td>ai (gpt-3.5-turbo)</td>\n",
       "    </tr>\n",
       "    <tr>\n",
       "      <th>3</th>\n",
       "      <td>What factors have contributed to the rapid inc...</td>\n",
       "      <td>[Birds are endothermic tetrapod vertebrates. T...</td>\n",
       "      <td>The traits that have contributed to the rapid ...</td>\n",
       "      <td>ai (gpt-3.5-turbo)</td>\n",
       "      <td>ai (gpt-3.5-turbo)</td>\n",
       "    </tr>\n",
       "    <tr>\n",
       "      <th>4</th>\n",
       "      <td>How do birds move, and what is the significanc...</td>\n",
       "      <td>[Birds are endothermic tetrapod vertebrates. T...</td>\n",
       "      <td>Birds move by walking or hopping on two legs, ...</td>\n",
       "      <td>ai (gpt-3.5-turbo)</td>\n",
       "      <td>ai (gpt-3.5-turbo)</td>\n",
       "    </tr>\n",
       "  </tbody>\n",
       "</table>\n",
       "</div>"
      ],
      "text/plain": [
       "                                               query  \\\n",
       "0  What are some characteristics of birds that di...   \n",
       "1  How do birds reproduce, and what is unique abo...   \n",
       "2  Why are birds considered the most numerous ver...   \n",
       "3  What factors have contributed to the rapid inc...   \n",
       "4  How do birds move, and what is the significanc...   \n",
       "\n",
       "                                  reference_contexts  \\\n",
       "0  [Birds are endothermic tetrapod vertebrates. T...   \n",
       "1  [Birds are endothermic tetrapod vertebrates. T...   \n",
       "2  [Birds are endothermic tetrapod vertebrates. T...   \n",
       "3  [Birds are endothermic tetrapod vertebrates. T...   \n",
       "4  [Birds are endothermic tetrapod vertebrates. T...   \n",
       "\n",
       "                                    reference_answer reference_answer_by  \\\n",
       "0  Some characteristics of birds that distinguish...  ai (gpt-3.5-turbo)   \n",
       "1  Birds reproduce by laying amniotic eggs. These...  ai (gpt-3.5-turbo)   \n",
       "2  Birds are considered the most numerous vertebr...  ai (gpt-3.5-turbo)   \n",
       "3  The traits that have contributed to the rapid ...  ai (gpt-3.5-turbo)   \n",
       "4  Birds move by walking or hopping on two legs, ...  ai (gpt-3.5-turbo)   \n",
       "\n",
       "             query_by  \n",
       "0  ai (gpt-3.5-turbo)  \n",
       "1  ai (gpt-3.5-turbo)  \n",
       "2  ai (gpt-3.5-turbo)  \n",
       "3  ai (gpt-3.5-turbo)  \n",
       "4  ai (gpt-3.5-turbo)  "
      ]
     },
     "execution_count": 43,
     "metadata": {},
     "output_type": "execute_result"
    }
   ],
   "source": [
    "df.head()"
   ]
  },
  {
   "cell_type": "markdown",
   "id": "d34685b2-4fc9-4fa3-ade4-a93fc9227aa9",
   "metadata": {},
   "source": [
    "### Save the Dataset in HuggingFace format."
   ]
  },
  {
   "cell_type": "code",
   "execution_count": 44,
   "id": "13242385-0137-4e05-88cc-25ae79478567",
   "metadata": {},
   "outputs": [
    {
     "name": "stdout",
     "output_type": "stream",
     "text": [
      "Dataset contains 393 rows\n"
     ]
    },
    {
     "name": "stderr",
     "output_type": "stream",
     "text": [
      "Saving the dataset (1/1 shards): 100%|██████████| 393/393 [00:00<00:00, 45612.97 examples/s]\n"
     ]
    }
   ],
   "source": [
    "from datasets import Dataset\n",
    "\n",
    "documents_folder = os.path.join(os.path.abspath(\"\"), \".content\")\n",
    "dataset = Dataset.from_pandas(df)\n",
    "print(f\"Dataset contains {len(dataset)} rows\")\n",
    "dataset.save_to_disk(documents_folder + \"/rag_sciq_data.hf\")"
   ]
  },
  {
   "cell_type": "code",
   "execution_count": null,
   "id": "14f0bfcd-44f1-484e-984a-8015e1781f3e",
   "metadata": {},
   "outputs": [],
   "source": []
  },
  {
   "cell_type": "code",
   "execution_count": null,
   "id": "289aeb18",
   "metadata": {},
   "outputs": [],
   "source": []
  }
 ],
 "metadata": {
  "kernelspec": {
   "display_name": "venv",
   "language": "python",
   "name": "python3"
  },
  "language_info": {
   "codemirror_mode": {
    "name": "ipython",
    "version": 3
   },
   "file_extension": ".py",
   "mimetype": "text/x-python",
   "name": "python",
   "nbconvert_exporter": "python",
   "pygments_lexer": "ipython3",
   "version": "3.11.6"
  }
 },
 "nbformat": 4,
 "nbformat_minor": 5
}
