{
 "cells": [
  {
   "cell_type": "markdown",
   "id": "0d0cefd3-b657-408a-a01d-559b326d82df",
   "metadata": {},
   "source": [
    "# Generating Data for Retrieval Augmented Generation. \n",
    "\n",
    "In this notebook, we'll generate a dataset for RAG using `sciq` dataset from Huggingface."
   ]
  },
  {
   "cell_type": "code",
   "execution_count": 2,
   "id": "a657d0ad-3f9e-438e-97a8-16c44932d713",
   "metadata": {},
   "outputs": [
    {
     "name": "stdout",
     "output_type": "stream",
     "text": [
      "Collecting llama-index==0.10.7\n",
      "  Downloading llama_index-0.10.7-py3-none-any.whl.metadata (8.6 kB)\n",
      "Requirement already satisfied: datasets in /Users/rahulparundekar/workspaces/course-openai-api/venv/lib/python3.11/site-packages (2.16.1)\n",
      "Requirement already satisfied: tqdm in /Users/rahulparundekar/workspaces/course-openai-api/venv/lib/python3.11/site-packages (4.66.1)\n",
      "Requirement already satisfied: python-dotenv in /Users/rahulparundekar/workspaces/course-openai-api/venv/lib/python3.11/site-packages (1.0.1)\n",
      "Requirement already satisfied: spacy in /Users/rahulparundekar/workspaces/course-openai-api/venv/lib/python3.11/site-packages (3.7.2)\n",
      "Collecting llama-index-agent-openai<0.2.0,>=0.1.0 (from llama-index==0.10.7)\n",
      "  Downloading llama_index_agent_openai-0.1.1-py3-none-any.whl.metadata (645 bytes)\n",
      "Collecting llama-index-core<0.11.0,>=0.10.0 (from llama-index==0.10.7)\n",
      "  Downloading llama_index_core-0.10.7-py3-none-any.whl.metadata (3.6 kB)\n",
      "Collecting llama-index-embeddings-openai<0.2.0,>=0.1.0 (from llama-index==0.10.7)\n",
      "  Downloading llama_index_embeddings_openai-0.1.3-py3-none-any.whl.metadata (604 bytes)\n",
      "Collecting llama-index-legacy<0.10.0,>=0.9.48 (from llama-index==0.10.7)\n",
      "  Downloading llama_index_legacy-0.9.48-py3-none-any.whl.metadata (8.5 kB)\n",
      "Collecting llama-index-llms-openai<0.2.0,>=0.1.0 (from llama-index==0.10.7)\n",
      "  Downloading llama_index_llms_openai-0.1.2-py3-none-any.whl.metadata (586 bytes)\n",
      "Collecting llama-index-multi-modal-llms-openai<0.2.0,>=0.1.0 (from llama-index==0.10.7)\n",
      "  Downloading llama_index_multi_modal_llms_openai-0.1.1-py3-none-any.whl.metadata (678 bytes)\n",
      "Collecting llama-index-program-openai<0.2.0,>=0.1.0 (from llama-index==0.10.7)\n",
      "  Downloading llama_index_program_openai-0.1.2-py3-none-any.whl.metadata (716 bytes)\n",
      "Collecting llama-index-question-gen-openai<0.2.0,>=0.1.0 (from llama-index==0.10.7)\n",
      "  Downloading llama_index_question_gen_openai-0.1.1-py3-none-any.whl.metadata (735 bytes)\n",
      "Collecting llama-index-readers-file<0.2.0,>=0.1.0 (from llama-index==0.10.7)\n",
      "  Downloading llama_index_readers_file-0.1.3-py3-none-any.whl.metadata (927 bytes)\n",
      "Requirement already satisfied: filelock in /Users/rahulparundekar/workspaces/course-openai-api/venv/lib/python3.11/site-packages (from datasets) (3.13.1)\n",
      "Requirement already satisfied: numpy>=1.17 in /Users/rahulparundekar/workspaces/course-openai-api/venv/lib/python3.11/site-packages (from datasets) (1.26.3)\n",
      "Requirement already satisfied: pyarrow>=8.0.0 in /Users/rahulparundekar/workspaces/course-openai-api/venv/lib/python3.11/site-packages (from datasets) (15.0.0)\n",
      "Requirement already satisfied: pyarrow-hotfix in /Users/rahulparundekar/workspaces/course-openai-api/venv/lib/python3.11/site-packages (from datasets) (0.6)\n",
      "Requirement already satisfied: dill<0.3.8,>=0.3.0 in /Users/rahulparundekar/workspaces/course-openai-api/venv/lib/python3.11/site-packages (from datasets) (0.3.7)\n",
      "Requirement already satisfied: pandas in /Users/rahulparundekar/workspaces/course-openai-api/venv/lib/python3.11/site-packages (from datasets) (2.2.0)\n",
      "Requirement already satisfied: requests>=2.19.0 in /Users/rahulparundekar/workspaces/course-openai-api/venv/lib/python3.11/site-packages (from datasets) (2.31.0)\n",
      "Requirement already satisfied: xxhash in /Users/rahulparundekar/workspaces/course-openai-api/venv/lib/python3.11/site-packages (from datasets) (3.4.1)\n",
      "Requirement already satisfied: multiprocess in /Users/rahulparundekar/workspaces/course-openai-api/venv/lib/python3.11/site-packages (from datasets) (0.70.15)\n",
      "Requirement already satisfied: fsspec<=2023.10.0,>=2023.1.0 in /Users/rahulparundekar/workspaces/course-openai-api/venv/lib/python3.11/site-packages (from fsspec[http]<=2023.10.0,>=2023.1.0->datasets) (2023.10.0)\n",
      "Requirement already satisfied: aiohttp in /Users/rahulparundekar/workspaces/course-openai-api/venv/lib/python3.11/site-packages (from datasets) (3.9.1)\n",
      "Requirement already satisfied: huggingface-hub>=0.19.4 in /Users/rahulparundekar/workspaces/course-openai-api/venv/lib/python3.11/site-packages (from datasets) (0.20.3)\n",
      "Requirement already satisfied: packaging in /Users/rahulparundekar/workspaces/course-openai-api/venv/lib/python3.11/site-packages (from datasets) (23.2)\n",
      "Requirement already satisfied: pyyaml>=5.1 in /Users/rahulparundekar/workspaces/course-openai-api/venv/lib/python3.11/site-packages (from datasets) (6.0.1)\n",
      "Requirement already satisfied: spacy-legacy<3.1.0,>=3.0.11 in /Users/rahulparundekar/workspaces/course-openai-api/venv/lib/python3.11/site-packages (from spacy) (3.0.12)\n",
      "Requirement already satisfied: spacy-loggers<2.0.0,>=1.0.0 in /Users/rahulparundekar/workspaces/course-openai-api/venv/lib/python3.11/site-packages (from spacy) (1.0.5)\n",
      "Requirement already satisfied: murmurhash<1.1.0,>=0.28.0 in /Users/rahulparundekar/workspaces/course-openai-api/venv/lib/python3.11/site-packages (from spacy) (1.0.10)\n",
      "Requirement already satisfied: cymem<2.1.0,>=2.0.2 in /Users/rahulparundekar/workspaces/course-openai-api/venv/lib/python3.11/site-packages (from spacy) (2.0.8)\n",
      "Requirement already satisfied: preshed<3.1.0,>=3.0.2 in /Users/rahulparundekar/workspaces/course-openai-api/venv/lib/python3.11/site-packages (from spacy) (3.0.9)\n",
      "Requirement already satisfied: thinc<8.3.0,>=8.1.8 in /Users/rahulparundekar/workspaces/course-openai-api/venv/lib/python3.11/site-packages (from spacy) (8.2.2)\n",
      "Requirement already satisfied: wasabi<1.2.0,>=0.9.1 in /Users/rahulparundekar/workspaces/course-openai-api/venv/lib/python3.11/site-packages (from spacy) (1.1.2)\n",
      "Requirement already satisfied: srsly<3.0.0,>=2.4.3 in /Users/rahulparundekar/workspaces/course-openai-api/venv/lib/python3.11/site-packages (from spacy) (2.4.8)\n",
      "Requirement already satisfied: catalogue<2.1.0,>=2.0.6 in /Users/rahulparundekar/workspaces/course-openai-api/venv/lib/python3.11/site-packages (from spacy) (2.0.10)\n",
      "Requirement already satisfied: weasel<0.4.0,>=0.1.0 in /Users/rahulparundekar/workspaces/course-openai-api/venv/lib/python3.11/site-packages (from spacy) (0.3.4)\n",
      "Requirement already satisfied: typer<0.10.0,>=0.3.0 in /Users/rahulparundekar/workspaces/course-openai-api/venv/lib/python3.11/site-packages (from spacy) (0.9.0)\n",
      "Requirement already satisfied: smart-open<7.0.0,>=5.2.1 in /Users/rahulparundekar/workspaces/course-openai-api/venv/lib/python3.11/site-packages (from spacy) (6.4.0)\n",
      "Requirement already satisfied: pydantic!=1.8,!=1.8.1,<3.0.0,>=1.7.4 in /Users/rahulparundekar/workspaces/course-openai-api/venv/lib/python3.11/site-packages (from spacy) (2.5.3)\n",
      "Requirement already satisfied: jinja2 in /Users/rahulparundekar/workspaces/course-openai-api/venv/lib/python3.11/site-packages (from spacy) (3.1.3)\n",
      "Requirement already satisfied: setuptools in /Users/rahulparundekar/workspaces/course-openai-api/venv/lib/python3.11/site-packages (from spacy) (68.2.2)\n",
      "Requirement already satisfied: langcodes<4.0.0,>=3.2.0 in /Users/rahulparundekar/workspaces/course-openai-api/venv/lib/python3.11/site-packages (from spacy) (3.3.0)\n",
      "Requirement already satisfied: attrs>=17.3.0 in /Users/rahulparundekar/workspaces/course-openai-api/venv/lib/python3.11/site-packages (from aiohttp->datasets) (23.2.0)\n",
      "Requirement already satisfied: multidict<7.0,>=4.5 in /Users/rahulparundekar/workspaces/course-openai-api/venv/lib/python3.11/site-packages (from aiohttp->datasets) (6.0.4)\n",
      "Requirement already satisfied: yarl<2.0,>=1.0 in /Users/rahulparundekar/workspaces/course-openai-api/venv/lib/python3.11/site-packages (from aiohttp->datasets) (1.9.4)\n",
      "Requirement already satisfied: frozenlist>=1.1.1 in /Users/rahulparundekar/workspaces/course-openai-api/venv/lib/python3.11/site-packages (from aiohttp->datasets) (1.4.1)\n",
      "Requirement already satisfied: aiosignal>=1.1.2 in /Users/rahulparundekar/workspaces/course-openai-api/venv/lib/python3.11/site-packages (from aiohttp->datasets) (1.3.1)\n",
      "Requirement already satisfied: typing-extensions>=3.7.4.3 in /Users/rahulparundekar/workspaces/course-openai-api/venv/lib/python3.11/site-packages (from huggingface-hub>=0.19.4->datasets) (4.9.0)\n",
      "Requirement already satisfied: SQLAlchemy>=1.4.49 in /Users/rahulparundekar/workspaces/course-openai-api/venv/lib/python3.11/site-packages (from SQLAlchemy[asyncio]>=1.4.49->llama-index-core<0.11.0,>=0.10.0->llama-index==0.10.7) (2.0.25)\n",
      "Requirement already satisfied: dataclasses-json in /Users/rahulparundekar/workspaces/course-openai-api/venv/lib/python3.11/site-packages (from llama-index-core<0.11.0,>=0.10.0->llama-index==0.10.7) (0.6.3)\n",
      "Requirement already satisfied: deprecated>=1.2.9.3 in /Users/rahulparundekar/workspaces/course-openai-api/venv/lib/python3.11/site-packages (from llama-index-core<0.11.0,>=0.10.0->llama-index==0.10.7) (1.2.14)\n",
      "Collecting dirtyjson<2.0.0,>=1.0.8 (from llama-index-core<0.11.0,>=0.10.0->llama-index==0.10.7)\n",
      "  Downloading dirtyjson-1.0.8-py3-none-any.whl.metadata (11 kB)\n",
      "Requirement already satisfied: httpx in /Users/rahulparundekar/workspaces/course-openai-api/venv/lib/python3.11/site-packages (from llama-index-core<0.11.0,>=0.10.0->llama-index==0.10.7) (0.26.0)\n",
      "Collecting llamaindex-py-client<0.2.0,>=0.1.13 (from llama-index-core<0.11.0,>=0.10.0->llama-index==0.10.7)\n",
      "  Downloading llamaindex_py_client-0.1.13-py3-none-any.whl.metadata (762 bytes)\n",
      "Requirement already satisfied: nest-asyncio<2.0.0,>=1.5.8 in /Users/rahulparundekar/workspaces/course-openai-api/venv/lib/python3.11/site-packages (from llama-index-core<0.11.0,>=0.10.0->llama-index==0.10.7) (1.6.0)\n",
      "Requirement already satisfied: networkx>=3.0 in /Users/rahulparundekar/workspaces/course-openai-api/venv/lib/python3.11/site-packages (from llama-index-core<0.11.0,>=0.10.0->llama-index==0.10.7) (3.2.1)\n",
      "Requirement already satisfied: nltk<4.0.0,>=3.8.1 in /Users/rahulparundekar/workspaces/course-openai-api/venv/lib/python3.11/site-packages (from llama-index-core<0.11.0,>=0.10.0->llama-index==0.10.7) (3.8.1)\n",
      "Requirement already satisfied: openai>=1.1.0 in /Users/rahulparundekar/workspaces/course-openai-api/venv/lib/python3.11/site-packages (from llama-index-core<0.11.0,>=0.10.0->llama-index==0.10.7) (1.10.0)\n",
      "Collecting pillow>=9.0.0 (from llama-index-core<0.11.0,>=0.10.0->llama-index==0.10.7)\n",
      "  Downloading pillow-10.2.0-cp311-cp311-macosx_10_10_x86_64.whl.metadata (9.7 kB)\n",
      "Requirement already satisfied: tenacity<9.0.0,>=8.2.0 in /Users/rahulparundekar/workspaces/course-openai-api/venv/lib/python3.11/site-packages (from llama-index-core<0.11.0,>=0.10.0->llama-index==0.10.7) (8.2.3)\n",
      "Requirement already satisfied: tiktoken>=0.3.3 in /Users/rahulparundekar/workspaces/course-openai-api/venv/lib/python3.11/site-packages (from llama-index-core<0.11.0,>=0.10.0->llama-index==0.10.7) (0.5.2)\n",
      "Requirement already satisfied: typing-inspect>=0.8.0 in /Users/rahulparundekar/workspaces/course-openai-api/venv/lib/python3.11/site-packages (from llama-index-core<0.11.0,>=0.10.0->llama-index==0.10.7) (0.9.0)\n",
      "Requirement already satisfied: beautifulsoup4<5.0.0,>=4.12.3 in /Users/rahulparundekar/workspaces/course-openai-api/venv/lib/python3.11/site-packages (from llama-index-readers-file<0.2.0,>=0.1.0->llama-index==0.10.7) (4.12.3)\n",
      "Collecting bs4<0.0.3,>=0.0.2 (from llama-index-readers-file<0.2.0,>=0.1.0->llama-index==0.10.7)\n",
      "  Downloading bs4-0.0.2-py2.py3-none-any.whl.metadata (411 bytes)\n",
      "Collecting pymupdf<2.0.0,>=1.23.21 (from llama-index-readers-file<0.2.0,>=0.1.0->llama-index==0.10.7)\n",
      "  Downloading PyMuPDF-1.23.24-cp311-none-macosx_10_9_x86_64.whl.metadata (3.4 kB)\n",
      "Collecting pypdf<5.0.0,>=4.0.1 (from llama-index-readers-file<0.2.0,>=0.1.0->llama-index==0.10.7)\n",
      "  Downloading pypdf-4.0.2-py3-none-any.whl.metadata (7.4 kB)\n",
      "Requirement already satisfied: annotated-types>=0.4.0 in /Users/rahulparundekar/workspaces/course-openai-api/venv/lib/python3.11/site-packages (from pydantic!=1.8,!=1.8.1,<3.0.0,>=1.7.4->spacy) (0.6.0)\n",
      "Requirement already satisfied: pydantic-core==2.14.6 in /Users/rahulparundekar/workspaces/course-openai-api/venv/lib/python3.11/site-packages (from pydantic!=1.8,!=1.8.1,<3.0.0,>=1.7.4->spacy) (2.14.6)\n",
      "Requirement already satisfied: charset-normalizer<4,>=2 in /Users/rahulparundekar/workspaces/course-openai-api/venv/lib/python3.11/site-packages (from requests>=2.19.0->datasets) (3.3.2)\n",
      "Requirement already satisfied: idna<4,>=2.5 in /Users/rahulparundekar/workspaces/course-openai-api/venv/lib/python3.11/site-packages (from requests>=2.19.0->datasets) (3.6)\n",
      "Requirement already satisfied: urllib3<3,>=1.21.1 in /Users/rahulparundekar/workspaces/course-openai-api/venv/lib/python3.11/site-packages (from requests>=2.19.0->datasets) (2.1.0)\n",
      "Requirement already satisfied: certifi>=2017.4.17 in /Users/rahulparundekar/workspaces/course-openai-api/venv/lib/python3.11/site-packages (from requests>=2.19.0->datasets) (2023.11.17)\n",
      "Requirement already satisfied: blis<0.8.0,>=0.7.8 in /Users/rahulparundekar/workspaces/course-openai-api/venv/lib/python3.11/site-packages (from thinc<8.3.0,>=8.1.8->spacy) (0.7.11)\n",
      "Requirement already satisfied: confection<1.0.0,>=0.0.1 in /Users/rahulparundekar/workspaces/course-openai-api/venv/lib/python3.11/site-packages (from thinc<8.3.0,>=8.1.8->spacy) (0.1.4)\n",
      "Requirement already satisfied: click<9.0.0,>=7.1.1 in /Users/rahulparundekar/workspaces/course-openai-api/venv/lib/python3.11/site-packages (from typer<0.10.0,>=0.3.0->spacy) (8.1.7)\n",
      "Requirement already satisfied: cloudpathlib<0.17.0,>=0.7.0 in /Users/rahulparundekar/workspaces/course-openai-api/venv/lib/python3.11/site-packages (from weasel<0.4.0,>=0.1.0->spacy) (0.16.0)\n",
      "Requirement already satisfied: MarkupSafe>=2.0 in /Users/rahulparundekar/workspaces/course-openai-api/venv/lib/python3.11/site-packages (from jinja2->spacy) (2.1.4)\n",
      "Requirement already satisfied: python-dateutil>=2.8.2 in /Users/rahulparundekar/workspaces/course-openai-api/venv/lib/python3.11/site-packages (from pandas->datasets) (2.8.2)\n",
      "Requirement already satisfied: pytz>=2020.1 in /Users/rahulparundekar/workspaces/course-openai-api/venv/lib/python3.11/site-packages (from pandas->datasets) (2023.3.post1)\n",
      "Requirement already satisfied: tzdata>=2022.7 in /Users/rahulparundekar/workspaces/course-openai-api/venv/lib/python3.11/site-packages (from pandas->datasets) (2023.4)\n",
      "Requirement already satisfied: soupsieve>1.2 in /Users/rahulparundekar/workspaces/course-openai-api/venv/lib/python3.11/site-packages (from beautifulsoup4<5.0.0,>=4.12.3->llama-index-readers-file<0.2.0,>=0.1.0->llama-index==0.10.7) (2.5)\n",
      "Requirement already satisfied: wrapt<2,>=1.10 in /Users/rahulparundekar/workspaces/course-openai-api/venv/lib/python3.11/site-packages (from deprecated>=1.2.9.3->llama-index-core<0.11.0,>=0.10.0->llama-index==0.10.7) (1.16.0)\n",
      "Requirement already satisfied: anyio in /Users/rahulparundekar/workspaces/course-openai-api/venv/lib/python3.11/site-packages (from httpx->llama-index-core<0.11.0,>=0.10.0->llama-index==0.10.7) (4.2.0)\n",
      "Requirement already satisfied: httpcore==1.* in /Users/rahulparundekar/workspaces/course-openai-api/venv/lib/python3.11/site-packages (from httpx->llama-index-core<0.11.0,>=0.10.0->llama-index==0.10.7) (1.0.2)\n",
      "Requirement already satisfied: sniffio in /Users/rahulparundekar/workspaces/course-openai-api/venv/lib/python3.11/site-packages (from httpx->llama-index-core<0.11.0,>=0.10.0->llama-index==0.10.7) (1.3.0)\n",
      "Requirement already satisfied: h11<0.15,>=0.13 in /Users/rahulparundekar/workspaces/course-openai-api/venv/lib/python3.11/site-packages (from httpcore==1.*->httpx->llama-index-core<0.11.0,>=0.10.0->llama-index==0.10.7) (0.14.0)\n",
      "Requirement already satisfied: joblib in /Users/rahulparundekar/workspaces/course-openai-api/venv/lib/python3.11/site-packages (from nltk<4.0.0,>=3.8.1->llama-index-core<0.11.0,>=0.10.0->llama-index==0.10.7) (1.3.2)\n",
      "Requirement already satisfied: regex>=2021.8.3 in /Users/rahulparundekar/workspaces/course-openai-api/venv/lib/python3.11/site-packages (from nltk<4.0.0,>=3.8.1->llama-index-core<0.11.0,>=0.10.0->llama-index==0.10.7) (2023.12.25)\n",
      "Requirement already satisfied: distro<2,>=1.7.0 in /Users/rahulparundekar/workspaces/course-openai-api/venv/lib/python3.11/site-packages (from openai>=1.1.0->llama-index-core<0.11.0,>=0.10.0->llama-index==0.10.7) (1.9.0)\n",
      "Collecting PyMuPDFb==1.23.22 (from pymupdf<2.0.0,>=1.23.21->llama-index-readers-file<0.2.0,>=0.1.0->llama-index==0.10.7)\n",
      "  Downloading PyMuPDFb-1.23.22-py3-none-macosx_10_9_x86_64.whl.metadata (1.4 kB)\n",
      "Requirement already satisfied: six>=1.5 in /Users/rahulparundekar/workspaces/course-openai-api/venv/lib/python3.11/site-packages (from python-dateutil>=2.8.2->pandas->datasets) (1.16.0)\n",
      "Requirement already satisfied: greenlet!=0.4.17 in /Users/rahulparundekar/workspaces/course-openai-api/venv/lib/python3.11/site-packages (from SQLAlchemy>=1.4.49->SQLAlchemy[asyncio]>=1.4.49->llama-index-core<0.11.0,>=0.10.0->llama-index==0.10.7) (3.0.3)\n",
      "Requirement already satisfied: mypy-extensions>=0.3.0 in /Users/rahulparundekar/workspaces/course-openai-api/venv/lib/python3.11/site-packages (from typing-inspect>=0.8.0->llama-index-core<0.11.0,>=0.10.0->llama-index==0.10.7) (1.0.0)\n",
      "Requirement already satisfied: marshmallow<4.0.0,>=3.18.0 in /Users/rahulparundekar/workspaces/course-openai-api/venv/lib/python3.11/site-packages (from dataclasses-json->llama-index-core<0.11.0,>=0.10.0->llama-index==0.10.7) (3.20.2)\n",
      "Downloading llama_index-0.10.7-py3-none-any.whl (5.6 kB)\n",
      "Downloading llama_index_agent_openai-0.1.1-py3-none-any.whl (12 kB)\n",
      "Downloading llama_index_core-0.10.7-py3-none-any.whl (15.4 MB)\n",
      "\u001b[2K   \u001b[90m━━━━━━━━━━━━━━━━━━━━━━━━━━━━━━━━━━━━━━━━\u001b[0m \u001b[32m15.4/15.4 MB\u001b[0m \u001b[31m14.8 MB/s\u001b[0m eta \u001b[36m0:00:00\u001b[0m00:01\u001b[0m00:01\u001b[0m\n",
      "\u001b[?25hDownloading llama_index_embeddings_openai-0.1.3-py3-none-any.whl (6.2 kB)\n",
      "Downloading llama_index_legacy-0.9.48-py3-none-any.whl (2.0 MB)\n",
      "\u001b[2K   \u001b[90m━━━━━━━━━━━━━━━━━━━━━━━━━━━━━━━━━━━━━━━━\u001b[0m \u001b[32m2.0/2.0 MB\u001b[0m \u001b[31m13.9 MB/s\u001b[0m eta \u001b[36m0:00:00\u001b[0ma \u001b[36m0:00:01\u001b[0m\n",
      "\u001b[?25hDownloading llama_index_llms_openai-0.1.2-py3-none-any.whl (9.5 kB)\n",
      "Downloading llama_index_multi_modal_llms_openai-0.1.1-py3-none-any.whl (6.0 kB)\n",
      "Downloading llama_index_program_openai-0.1.2-py3-none-any.whl (4.3 kB)\n",
      "Downloading llama_index_question_gen_openai-0.1.1-py3-none-any.whl (3.1 kB)\n",
      "Downloading llama_index_readers_file-0.1.3-py3-none-any.whl (36 kB)\n",
      "Downloading bs4-0.0.2-py2.py3-none-any.whl (1.2 kB)\n",
      "Using cached dirtyjson-1.0.8-py3-none-any.whl (25 kB)\n",
      "Downloading llamaindex_py_client-0.1.13-py3-none-any.whl (107 kB)\n",
      "\u001b[2K   \u001b[90m━━━━━━━━━━━━━━━━━━━━━━━━━━━━━━━━━━━━━━━━\u001b[0m \u001b[32m108.0/108.0 kB\u001b[0m \u001b[31m3.4 MB/s\u001b[0m eta \u001b[36m0:00:00\u001b[0m\n",
      "\u001b[?25hDownloading pillow-10.2.0-cp311-cp311-macosx_10_10_x86_64.whl (3.5 MB)\n",
      "\u001b[2K   \u001b[90m━━━━━━━━━━━━━━━━━━━━━━━━━━━━━━━━━━━━━━━━\u001b[0m \u001b[32m3.5/3.5 MB\u001b[0m \u001b[31m14.6 MB/s\u001b[0m eta \u001b[36m0:00:00\u001b[0m00:01\u001b[0m00:01\u001b[0m\n",
      "\u001b[?25hDownloading PyMuPDF-1.23.24-cp311-none-macosx_10_9_x86_64.whl (4.2 MB)\n",
      "\u001b[2K   \u001b[90m━━━━━━━━━━━━━━━━━━━━━━━━━━━━━━━━━━━━━━━━\u001b[0m \u001b[32m4.2/4.2 MB\u001b[0m \u001b[31m15.1 MB/s\u001b[0m eta \u001b[36m0:00:00\u001b[0m00:01\u001b[0m00:01\u001b[0m\n",
      "\u001b[?25hDownloading PyMuPDFb-1.23.22-py3-none-macosx_10_9_x86_64.whl (30.1 MB)\n",
      "\u001b[2K   \u001b[90m━━━━━━━━━━━━━━━━━━━━━━━━━━━━━━━━━━━━━━━━\u001b[0m \u001b[32m30.1/30.1 MB\u001b[0m \u001b[31m10.8 MB/s\u001b[0m eta \u001b[36m0:00:00\u001b[0m00:01\u001b[0m00:01\u001b[0m\n",
      "\u001b[?25hDownloading pypdf-4.0.2-py3-none-any.whl (283 kB)\n",
      "\u001b[2K   \u001b[90m━━━━━━━━━━━━━━━━━━━━━━━━━━━━━━━━━━━━━━━━\u001b[0m \u001b[32m284.0/284.0 kB\u001b[0m \u001b[31m4.1 MB/s\u001b[0m eta \u001b[36m0:00:00\u001b[0ma \u001b[36m0:00:01\u001b[0m\n",
      "\u001b[?25hInstalling collected packages: dirtyjson, pypdf, PyMuPDFb, pillow, pymupdf, bs4, llamaindex-py-client, llama-index-legacy, llama-index-core, llama-index-readers-file, llama-index-llms-openai, llama-index-embeddings-openai, llama-index-multi-modal-llms-openai, llama-index-agent-openai, llama-index-program-openai, llama-index-question-gen-openai, llama-index\n",
      "  Attempting uninstall: llama-index\n",
      "    Found existing installation: llama-index 0.9.39\n",
      "    Uninstalling llama-index-0.9.39:\n",
      "      Successfully uninstalled llama-index-0.9.39\n",
      "Successfully installed PyMuPDFb-1.23.22 bs4-0.0.2 dirtyjson-1.0.8 llama-index-0.10.7 llama-index-agent-openai-0.1.1 llama-index-core-0.10.7 llama-index-embeddings-openai-0.1.3 llama-index-legacy-0.9.48 llama-index-llms-openai-0.1.2 llama-index-multi-modal-llms-openai-0.1.1 llama-index-program-openai-0.1.2 llama-index-question-gen-openai-0.1.1 llama-index-readers-file-0.1.3 llamaindex-py-client-0.1.13 pillow-10.2.0 pymupdf-1.23.24 pypdf-4.0.2\n",
      "\n",
      "\u001b[1m[\u001b[0m\u001b[34;49mnotice\u001b[0m\u001b[1;39;49m]\u001b[0m\u001b[39;49m A new release of pip is available: \u001b[0m\u001b[31;49m23.3.1\u001b[0m\u001b[39;49m -> \u001b[0m\u001b[32;49m24.0\u001b[0m\n",
      "\u001b[1m[\u001b[0m\u001b[34;49mnotice\u001b[0m\u001b[1;39;49m]\u001b[0m\u001b[39;49m To update, run: \u001b[0m\u001b[32;49mpip install --upgrade pip\u001b[0m\n"
     ]
    }
   ],
   "source": [
    "!pip install llama-index==0.9.48 datasets tqdm python-dotenv spacy"
   ]
  },
  {
   "cell_type": "markdown",
   "id": "758997ce-54bb-491d-b018-3a56c9dc08ab",
   "metadata": {},
   "source": [
    "## Setup Environment Variables"
   ]
  },
  {
   "cell_type": "code",
   "execution_count": 3,
   "id": "93000784-1a38-486d-824c-12e2bbde3bc0",
   "metadata": {},
   "outputs": [
    {
     "data": {
      "text/plain": [
       "True"
      ]
     },
     "execution_count": 3,
     "metadata": {},
     "output_type": "execute_result"
    }
   ],
   "source": [
    "from dotenv import load_dotenv\n",
    "\n",
    "load_dotenv()"
   ]
  },
  {
   "cell_type": "markdown",
   "id": "9a20f4bf-89bb-401c-a835-a6d454242482",
   "metadata": {},
   "source": [
    "## Download sciq dataset\n",
    "\n",
    "Note: Parts of this repo are inspired by [this](https://srk.ai/blog/004-ai-llm-retrieval-eval-llamaindex) blog on evaluating the performance of RAGs."
   ]
  },
  {
   "cell_type": "code",
   "execution_count": 4,
   "id": "d3f594c4-3770-45e4-b6b1-2587709763b3",
   "metadata": {},
   "outputs": [
    {
     "name": "stderr",
     "output_type": "stream",
     "text": [
      "/Users/rahulparundekar/workspaces/course-openai-api/venv/lib/python3.11/site-packages/tqdm/auto.py:21: TqdmWarning: IProgress not found. Please update jupyter and ipywidgets. See https://ipywidgets.readthedocs.io/en/stable/user_install.html\n",
      "  from .autonotebook import tqdm as notebook_tqdm\n"
     ]
    }
   ],
   "source": [
    "from datasets import load_dataset\n",
    "\n",
    "dataset = load_dataset(\"sciq\")"
   ]
  },
  {
   "cell_type": "markdown",
   "id": "8e7f0e5d-6824-43f3-aebc-4a855245b1f9",
   "metadata": {},
   "source": [
    "## Generate RAG Dataset From the Documents"
   ]
  },
  {
   "cell_type": "code",
   "execution_count": 5,
   "id": "7805cc42-ab01-44e4-9a13-398250bea39b",
   "metadata": {},
   "outputs": [
    {
     "data": {
      "text/html": [
       "<div>\n",
       "<style scoped>\n",
       "    .dataframe tbody tr th:only-of-type {\n",
       "        vertical-align: middle;\n",
       "    }\n",
       "\n",
       "    .dataframe tbody tr th {\n",
       "        vertical-align: top;\n",
       "    }\n",
       "\n",
       "    .dataframe thead th {\n",
       "        text-align: right;\n",
       "    }\n",
       "</style>\n",
       "<table border=\"1\" class=\"dataframe\">\n",
       "  <thead>\n",
       "    <tr style=\"text-align: right;\">\n",
       "      <th></th>\n",
       "      <th>question</th>\n",
       "      <th>distractor3</th>\n",
       "      <th>distractor1</th>\n",
       "      <th>distractor2</th>\n",
       "      <th>correct_answer</th>\n",
       "      <th>support</th>\n",
       "    </tr>\n",
       "  </thead>\n",
       "  <tbody>\n",
       "    <tr>\n",
       "      <th>0</th>\n",
       "      <td>What type of organism is commonly used in prep...</td>\n",
       "      <td>viruses</td>\n",
       "      <td>protozoa</td>\n",
       "      <td>gymnosperms</td>\n",
       "      <td>mesophilic organisms</td>\n",
       "      <td>Mesophiles grow best in moderate temperature, ...</td>\n",
       "    </tr>\n",
       "    <tr>\n",
       "      <th>1</th>\n",
       "      <td>What phenomenon makes global winds blow northe...</td>\n",
       "      <td>tropical effect</td>\n",
       "      <td>muon effect</td>\n",
       "      <td>centrifugal effect</td>\n",
       "      <td>coriolis effect</td>\n",
       "      <td>Without Coriolis Effect the global winds would...</td>\n",
       "    </tr>\n",
       "    <tr>\n",
       "      <th>2</th>\n",
       "      <td>Changes from a less-ordered state to a more-or...</td>\n",
       "      <td>endothermic</td>\n",
       "      <td>unbalanced</td>\n",
       "      <td>reactive</td>\n",
       "      <td>exothermic</td>\n",
       "      <td>Summary Changes of state are examples of phase...</td>\n",
       "    </tr>\n",
       "    <tr>\n",
       "      <th>3</th>\n",
       "      <td>What is the least dangerous radioactive decay?</td>\n",
       "      <td>zeta decay</td>\n",
       "      <td>beta decay</td>\n",
       "      <td>gamma decay</td>\n",
       "      <td>alpha decay</td>\n",
       "      <td>All radioactive decay is dangerous to living t...</td>\n",
       "    </tr>\n",
       "    <tr>\n",
       "      <th>4</th>\n",
       "      <td>Kilauea in hawaii is the world’s most continuo...</td>\n",
       "      <td>magma</td>\n",
       "      <td>greenhouse gases</td>\n",
       "      <td>carbon and smog</td>\n",
       "      <td>smoke and ash</td>\n",
       "      <td>Example 3.5 Calculating Projectile Motion: Hot...</td>\n",
       "    </tr>\n",
       "  </tbody>\n",
       "</table>\n",
       "</div>"
      ],
      "text/plain": [
       "                                            question      distractor3  \\\n",
       "0  What type of organism is commonly used in prep...          viruses   \n",
       "1  What phenomenon makes global winds blow northe...  tropical effect   \n",
       "2  Changes from a less-ordered state to a more-or...      endothermic   \n",
       "3     What is the least dangerous radioactive decay?       zeta decay   \n",
       "4  Kilauea in hawaii is the world’s most continuo...            magma   \n",
       "\n",
       "        distractor1         distractor2        correct_answer  \\\n",
       "0          protozoa         gymnosperms  mesophilic organisms   \n",
       "1       muon effect  centrifugal effect       coriolis effect   \n",
       "2        unbalanced            reactive            exothermic   \n",
       "3        beta decay         gamma decay           alpha decay   \n",
       "4  greenhouse gases     carbon and smog         smoke and ash   \n",
       "\n",
       "                                             support  \n",
       "0  Mesophiles grow best in moderate temperature, ...  \n",
       "1  Without Coriolis Effect the global winds would...  \n",
       "2  Summary Changes of state are examples of phase...  \n",
       "3  All radioactive decay is dangerous to living t...  \n",
       "4  Example 3.5 Calculating Projectile Motion: Hot...  "
      ]
     },
     "execution_count": 5,
     "metadata": {},
     "output_type": "execute_result"
    }
   ],
   "source": [
    "# Let's see what's in the dataset.\n",
    "\n",
    "dataset[\"train\"].to_pandas().head()"
   ]
  },
  {
   "cell_type": "markdown",
   "id": "2771da43-eae8-4ebc-a7cb-749ff0275309",
   "metadata": {},
   "source": [
    "We have a `question`, and `support` fields that are super relevant. The answer is also present in the `correct_answer` field, but is one worded."
   ]
  },
  {
   "cell_type": "code",
   "execution_count": 6,
   "id": "56d1254b-5026-438f-998e-cb9bf7e503dc",
   "metadata": {},
   "outputs": [],
   "source": [
    "def cleanup_cols(row):\n",
    "    return {\"question\": row[\"question\"], \"answer\": row[\"correct_answer\"].title(), \"support\": row[\"support\"]}\n",
    "\n",
    "\n",
    "updated_dataset = dataset.map(cleanup_cols)"
   ]
  },
  {
   "cell_type": "code",
   "execution_count": 7,
   "id": "6029df6a-2f27-41a6-a1ed-c0bd22518bb8",
   "metadata": {},
   "outputs": [
    {
     "data": {
      "text/html": [
       "<div>\n",
       "<style scoped>\n",
       "    .dataframe tbody tr th:only-of-type {\n",
       "        vertical-align: middle;\n",
       "    }\n",
       "\n",
       "    .dataframe tbody tr th {\n",
       "        vertical-align: top;\n",
       "    }\n",
       "\n",
       "    .dataframe thead th {\n",
       "        text-align: right;\n",
       "    }\n",
       "</style>\n",
       "<table border=\"1\" class=\"dataframe\">\n",
       "  <thead>\n",
       "    <tr style=\"text-align: right;\">\n",
       "      <th></th>\n",
       "      <th>question</th>\n",
       "      <th>support</th>\n",
       "      <th>answer</th>\n",
       "    </tr>\n",
       "  </thead>\n",
       "  <tbody>\n",
       "    <tr>\n",
       "      <th>0</th>\n",
       "      <td>What type of organism is commonly used in prep...</td>\n",
       "      <td>Mesophiles grow best in moderate temperature, ...</td>\n",
       "      <td>Mesophilic Organisms</td>\n",
       "    </tr>\n",
       "    <tr>\n",
       "      <th>1</th>\n",
       "      <td>What phenomenon makes global winds blow northe...</td>\n",
       "      <td>Without Coriolis Effect the global winds would...</td>\n",
       "      <td>Coriolis Effect</td>\n",
       "    </tr>\n",
       "    <tr>\n",
       "      <th>2</th>\n",
       "      <td>Changes from a less-ordered state to a more-or...</td>\n",
       "      <td>Summary Changes of state are examples of phase...</td>\n",
       "      <td>Exothermic</td>\n",
       "    </tr>\n",
       "    <tr>\n",
       "      <th>3</th>\n",
       "      <td>What is the least dangerous radioactive decay?</td>\n",
       "      <td>All radioactive decay is dangerous to living t...</td>\n",
       "      <td>Alpha Decay</td>\n",
       "    </tr>\n",
       "    <tr>\n",
       "      <th>4</th>\n",
       "      <td>Kilauea in hawaii is the world’s most continuo...</td>\n",
       "      <td>Example 3.5 Calculating Projectile Motion: Hot...</td>\n",
       "      <td>Smoke And Ash</td>\n",
       "    </tr>\n",
       "  </tbody>\n",
       "</table>\n",
       "</div>"
      ],
      "text/plain": [
       "                                            question  \\\n",
       "0  What type of organism is commonly used in prep...   \n",
       "1  What phenomenon makes global winds blow northe...   \n",
       "2  Changes from a less-ordered state to a more-or...   \n",
       "3     What is the least dangerous radioactive decay?   \n",
       "4  Kilauea in hawaii is the world’s most continuo...   \n",
       "\n",
       "                                             support                answer  \n",
       "0  Mesophiles grow best in moderate temperature, ...  Mesophilic Organisms  \n",
       "1  Without Coriolis Effect the global winds would...       Coriolis Effect  \n",
       "2  Summary Changes of state are examples of phase...            Exothermic  \n",
       "3  All radioactive decay is dangerous to living t...           Alpha Decay  \n",
       "4  Example 3.5 Calculating Projectile Motion: Hot...         Smoke And Ash  "
      ]
     },
     "execution_count": 7,
     "metadata": {},
     "output_type": "execute_result"
    }
   ],
   "source": [
    "updated_dataset = updated_dataset.remove_columns([\"distractor3\", \"distractor1\", \"distractor2\", \"correct_answer\"])\n",
    "updated_dataset[\"train\"].to_pandas().head()"
   ]
  },
  {
   "cell_type": "markdown",
   "id": "d34685b2-4fc9-4fa3-ade4-a93fc9227aa9",
   "metadata": {},
   "source": [
    "### Save the Dataset in HuggingFace format."
   ]
  },
  {
   "cell_type": "code",
   "execution_count": 8,
   "id": "13242385-0137-4e05-88cc-25ae79478567",
   "metadata": {},
   "outputs": [
    {
     "name": "stdout",
     "output_type": "stream",
     "text": [
      "Dataset contains 3 rows\n"
     ]
    },
    {
     "name": "stderr",
     "output_type": "stream",
     "text": [
      "Saving the dataset (1/1 shards): 100%|██████████| 11679/11679 [00:00<00:00, 783563.83 examples/s]\n",
      "Saving the dataset (1/1 shards): 100%|██████████| 1000/1000 [00:00<00:00, 123184.35 examples/s]\n",
      "Saving the dataset (1/1 shards): 100%|██████████| 1000/1000 [00:00<00:00, 114890.40 examples/s]\n"
     ]
    }
   ],
   "source": [
    "import os\n",
    "\n",
    "content_folder = os.path.join(os.path.abspath(\"\"), \".content\")\n",
    "print(f\"Dataset contains {len(updated_dataset)} rows\")\n",
    "updated_dataset.save_to_disk(content_folder + \"/rag_sciq_data.hf\")"
   ]
  },
  {
   "cell_type": "markdown",
   "id": "24ef5366",
   "metadata": {},
   "source": [
    "Great! Now we're ready to build our RAG."
   ]
  },
  {
   "cell_type": "code",
   "execution_count": 9,
   "id": "289aeb18",
   "metadata": {},
   "outputs": [
    {
     "data": {
      "text/plain": [
       "DatasetDict({\n",
       "    train: Dataset({\n",
       "        features: ['question', 'support', 'answer'],\n",
       "        num_rows: 11679\n",
       "    })\n",
       "    validation: Dataset({\n",
       "        features: ['question', 'support', 'answer'],\n",
       "        num_rows: 1000\n",
       "    })\n",
       "    test: Dataset({\n",
       "        features: ['question', 'support', 'answer'],\n",
       "        num_rows: 1000\n",
       "    })\n",
       "})"
      ]
     },
     "execution_count": 9,
     "metadata": {},
     "output_type": "execute_result"
    }
   ],
   "source": [
    "updated_dataset"
   ]
  }
 ],
 "metadata": {
  "kernelspec": {
   "display_name": "venv",
   "language": "python",
   "name": "python3"
  },
  "language_info": {
   "codemirror_mode": {
    "name": "ipython",
    "version": 3
   },
   "file_extension": ".py",
   "mimetype": "text/x-python",
   "name": "python",
   "nbconvert_exporter": "python",
   "pygments_lexer": "ipython3",
   "version": "3.11.6"
  }
 },
 "nbformat": 4,
 "nbformat_minor": 5
}
